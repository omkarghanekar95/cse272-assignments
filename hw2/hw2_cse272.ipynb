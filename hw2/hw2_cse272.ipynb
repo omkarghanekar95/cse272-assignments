{
  "nbformat": 4,
  "nbformat_minor": 0,
  "metadata": {
    "colab": {
      "name": "hw2_cse272.ipynb",
      "provenance": [],
      "collapsed_sections": []
    },
    "kernelspec": {
      "name": "python3",
      "display_name": "Python 3"
    },
    "language_info": {
      "name": "python"
    }
  },
  "cells": [
    {
      "cell_type": "code",
      "source": [
        "from google.colab import drive\n",
        "drive.mount('/content/drive')\n",
        "\n",
        "%cd drive/MyDrive/CSE272/hw2/"
      ],
      "metadata": {
        "colab": {
          "base_uri": "https://localhost:8080/"
        },
        "id": "Ife-1nRDQoQP",
        "outputId": "08262013-1bfe-4c12-f70f-79ae9392e3d0"
      },
      "execution_count": null,
      "outputs": [
        {
          "output_type": "stream",
          "name": "stdout",
          "text": [
            "Mounted at /content/drive\n",
            "/content/drive/MyDrive/CSE272/hw2\n"
          ]
        }
      ]
    },
    {
      "cell_type": "code",
      "execution_count": null,
      "metadata": {
        "id": "jb_zTT4Pj_e6"
      },
      "outputs": [],
      "source": [
        "import numpy as np, pandas as pd"
      ]
    },
    {
      "cell_type": "code",
      "source": [
        "cell_phones_data = pd.read_json('reviews_subset.json',lines=True)\n",
        "#print(cell_phones_data)\n",
        "print(cell_phones_data.head())\n",
        "# dataframe.to_csv('reviews.csv', sep=',', index=False)"
      ],
      "metadata": {
        "colab": {
          "base_uri": "https://localhost:8080/"
        },
        "id": "gosMSci7QYoh",
        "outputId": "aaecae45-d39f-4b1f-ca1e-a471aa8eb832"
      },
      "execution_count": null,
      "outputs": [
        {
          "output_type": "stream",
          "name": "stdout",
          "text": [
            "   overall  verified   reviewTime      reviewerID        asin  \\\n",
            "0        5      True   08 4, 2014  A24E3SXTC62LJI  7508492919   \n",
            "1        5      True  02 12, 2014  A269FLZCB4GIPV  7508492919   \n",
            "2        3      True   02 8, 2014   AB6CHQWHZW4TV  7508492919   \n",
            "3        2      True   02 4, 2014   A1M117A53LEI8  7508492919   \n",
            "4        4      True   02 3, 2014  A272DUT8M88ZS8  7508492919   \n",
            "\n",
            "                  style      reviewerName  \\\n",
            "0  {'Color:': ' Bling'}  Claudia Valdivia   \n",
            "1                   NaN       sarah ponce   \n",
            "2                   NaN               Kai   \n",
            "3                   NaN   Sharon Williams   \n",
            "4                   NaN   Bella Rodriguez   \n",
            "\n",
            "                                          reviewText  \\\n",
            "0  Looks even better in person. Be careful to not...   \n",
            "1  When you don't want to spend a whole lot of ca...   \n",
            "2  so the case came on time, i love the design. I...   \n",
            "3  DON'T CARE FOR IT.  GAVE IT AS A GIFT AND THEY...   \n",
            "4  I liked it because it was cute, but the studs ...   \n",
            "\n",
            "                               summary  unixReviewTime  vote image  \n",
            "0  Can't stop won't stop looking at it      1407110400   NaN   NaN  \n",
            "1                                    1      1392163200   NaN   NaN  \n",
            "2                             Its okay      1391817600   NaN   NaN  \n",
            "3                                 CASE      1391472000   NaN   NaN  \n",
            "4                                Cute!      1391385600   NaN   NaN  \n"
          ]
        }
      ]
    },
    {
      "cell_type": "code",
      "source": [
        "print(cell_phones_data.dtypes)\n",
        "print('Minimum rating is: %d' %(cell_phones_data.overall.min()))\n",
        "print('Maximum rating is: %d' %(cell_phones_data.overall.max()))\n",
        "print('Number of missing values across columns: \\n',cell_phones_data.isnull().sum())\n"
      ],
      "metadata": {
        "colab": {
          "base_uri": "https://localhost:8080/"
        },
        "id": "KOeFDLyjuOgn",
        "outputId": "4fddbb78-b39c-4001-d9a5-ca881b4c3464"
      },
      "execution_count": null,
      "outputs": [
        {
          "output_type": "stream",
          "name": "stdout",
          "text": [
            "overall             int64\n",
            "verified             bool\n",
            "reviewTime         object\n",
            "reviewerID         object\n",
            "asin               object\n",
            "style              object\n",
            "reviewerName       object\n",
            "reviewText         object\n",
            "summary            object\n",
            "unixReviewTime      int64\n",
            "vote              float64\n",
            "image              object\n",
            "dtype: object\n",
            "Minimum rating is: 1\n",
            "Maximum rating is: 5\n",
            "Number of missing values across columns: \n",
            " overall              0\n",
            "verified             0\n",
            "reviewTime           0\n",
            "reviewerID           0\n",
            "asin                 0\n",
            "style             1471\n",
            "reviewerName         1\n",
            "reviewText           0\n",
            "summary              0\n",
            "unixReviewTime       0\n",
            "vote              1783\n",
            "image             2363\n",
            "dtype: int64\n"
          ]
        }
      ]
    },
    {
      "cell_type": "code",
      "source": [
        "print(\"Total data \")\n",
        "print(\"-\"*50)\n",
        "print(\"\\nTotal no of ratings :\",cell_phones_data.shape[0])\n",
        "print(\"Total No of Users   :\", len(np.unique(cell_phones_data.reviewerID)))\n",
        "print(\"Total No of products  :\", len(np.unique(cell_phones_data.asin)))"
      ],
      "metadata": {
        "colab": {
          "base_uri": "https://localhost:8080/"
        },
        "id": "R-Mca-S1vWDN",
        "outputId": "35c7049e-bb4c-49da-e42f-f9dfa2bf3480"
      },
      "execution_count": null,
      "outputs": [
        {
          "output_type": "stream",
          "name": "stdout",
          "text": [
            "Total data \n",
            "--------------------------------------------------\n",
            "\n",
            "Total no of ratings : 2372\n",
            "Total No of Users   : 2144\n",
            "Total No of products  : 129\n"
          ]
        }
      ]
    },
    {
      "cell_type": "code",
      "source": [
        "cell_phone =  cell_phones_data[[\"overall\", \"reviewerID\", \"asin\"]]\n",
        "cell_phone.asin = cell_phone.asin.apply(lambda x: x[:-1] if 'X' in x else x)\n",
        "\n",
        "print(cell_phone)"
      ],
      "metadata": {
        "colab": {
          "base_uri": "https://localhost:8080/"
        },
        "id": "B-PrDfMXQRcI",
        "outputId": "20a25f3b-9cde-4e4f-c03d-545e80355a82"
      },
      "execution_count": null,
      "outputs": [
        {
          "output_type": "stream",
          "name": "stdout",
          "text": [
            "      overall      reviewerID        asin\n",
            "0           5  A24E3SXTC62LJI  7508492919\n",
            "1           5  A269FLZCB4GIPV  7508492919\n",
            "2           3   AB6CHQWHZW4TV  7508492919\n",
            "3           2   A1M117A53LEI8  7508492919\n",
            "4           4  A272DUT8M88ZS8  7508492919\n",
            "...       ...             ...         ...\n",
            "2367        5  A249GNBJ30I11K  B000E7UFIG\n",
            "2368        5  A32EOHLFZYXJEP  B000E7UFIG\n",
            "2369        5  A2QBJJEKTJ06DR  B000E7UFIG\n",
            "2370        5  A3OWU1R4LAL8GF  B000E7UFIG\n",
            "2371        5  A3KDP3BJ7GF5NT  B000E7T7JO\n",
            "\n",
            "[2372 rows x 3 columns]\n"
          ]
        },
        {
          "output_type": "stream",
          "name": "stderr",
          "text": [
            "/usr/local/lib/python3.7/dist-packages/pandas/core/generic.py:5516: SettingWithCopyWarning: \n",
            "A value is trying to be set on a copy of a slice from a DataFrame.\n",
            "Try using .loc[row_indexer,col_indexer] = value instead\n",
            "\n",
            "See the caveats in the documentation: https://pandas.pydata.org/pandas-docs/stable/user_guide/indexing.html#returning-a-view-versus-a-copy\n",
            "  self[name] = value\n"
          ]
        }
      ]
    },
    {
      "cell_type": "code",
      "source": [
        "#Analysis of rating given by the user \n",
        "\n",
        "no_of_rated_products_per_user = cell_phone.groupby(by='reviewerID')['overall'].count().sort_values(ascending=False)\n",
        "\n",
        "print(no_of_rated_products_per_user.head())\n",
        "print(no_of_rated_products_per_user.shape)\n",
        "print(no_of_rated_products_per_user.describe())\n",
        "\n",
        "print('\\n No of rated product more than 50 per user : {}\\n'.format(sum(no_of_rated_products_per_user >= 5)) )"
      ],
      "metadata": {
        "colab": {
          "base_uri": "https://localhost:8080/"
        },
        "id": "ZtJXvz35Qxg9",
        "outputId": "b1261c1f-40fc-42f5-8949-ea15bfe44af8"
      },
      "execution_count": null,
      "outputs": [
        {
          "output_type": "stream",
          "name": "stdout",
          "text": [
            "reviewerID\n",
            "A5JLAU2ARJ0BO     11\n",
            "A33TED651NAXWU     8\n",
            "AJMBX04BZWPSD      7\n",
            "A1F9Z42CFF9IAY     6\n",
            "A1N5FSCYN4796F     6\n",
            "Name: overall, dtype: int64\n",
            "(2144,)\n",
            "count    2144.000000\n",
            "mean        1.106343\n",
            "std         0.518331\n",
            "min         1.000000\n",
            "25%         1.000000\n",
            "50%         1.000000\n",
            "75%         1.000000\n",
            "max        11.000000\n",
            "Name: overall, dtype: float64\n",
            "\n",
            " No of rated product more than 50 per user : 10\n",
            "\n"
          ]
        }
      ]
    },
    {
      "cell_type": "code",
      "source": [
        "!pwd\n",
        "cell_csv_data=pd.read_csv(\"cell_phone_reviews.csv\")\n",
        "cell_csv_data.head()\n",
        "\n",
        "cell_csv_data.dtypes"
      ],
      "metadata": {
        "colab": {
          "base_uri": "https://localhost:8080/"
        },
        "id": "Gp5E1pOBb4rw",
        "outputId": "2fed6ecb-6882-4abf-be47-3fd6b6765714"
      },
      "execution_count": null,
      "outputs": [
        {
          "output_type": "stream",
          "name": "stdout",
          "text": [
            "/content/drive/MyDrive/CSE272/hw2\n"
          ]
        },
        {
          "output_type": "execute_result",
          "data": {
            "text/plain": [
              "item         object\n",
              "user         object\n",
              "rating        int64\n",
              "timestamp     int64\n",
              "dtype: object"
            ]
          },
          "metadata": {},
          "execution_count": 8
        }
      ]
    },
    {
      "cell_type": "code",
      "source": [
        "!pip install scikit-surprise\n",
        "from surprise import KNNWithMeans\n",
        "from surprise import Dataset\n",
        "from surprise import accuracy\n",
        "from surprise import Reader\n",
        "\n",
        "import os\n",
        "from surprise.model_selection import train_test_split"
      ],
      "metadata": {
        "colab": {
          "base_uri": "https://localhost:8080/"
        },
        "id": "iRXaeYTMXe3_",
        "outputId": "c8967c9c-d569-41bf-ae93-037a1df409a0"
      },
      "execution_count": null,
      "outputs": [
        {
          "output_type": "stream",
          "name": "stdout",
          "text": [
            "Collecting scikit-surprise\n",
            "  Downloading scikit-surprise-1.1.1.tar.gz (11.8 MB)\n",
            "\u001b[K     |████████████████████████████████| 11.8 MB 5.1 MB/s \n",
            "\u001b[?25hRequirement already satisfied: joblib>=0.11 in /usr/local/lib/python3.7/dist-packages (from scikit-surprise) (1.1.0)\n",
            "Requirement already satisfied: numpy>=1.11.2 in /usr/local/lib/python3.7/dist-packages (from scikit-surprise) (1.21.6)\n",
            "Requirement already satisfied: scipy>=1.0.0 in /usr/local/lib/python3.7/dist-packages (from scikit-surprise) (1.4.1)\n",
            "Requirement already satisfied: six>=1.10.0 in /usr/local/lib/python3.7/dist-packages (from scikit-surprise) (1.15.0)\n",
            "Building wheels for collected packages: scikit-surprise\n",
            "  Building wheel for scikit-surprise (setup.py) ... \u001b[?25l\u001b[?25hdone\n",
            "  Created wheel for scikit-surprise: filename=scikit_surprise-1.1.1-cp37-cp37m-linux_x86_64.whl size=1633700 sha256=bb05580c004c5025606fa016711040a4281c76bf42b663bee0c928cec35a0764\n",
            "  Stored in directory: /root/.cache/pip/wheels/76/44/74/b498c42be47b2406bd27994e16c5188e337c657025ab400c1c\n",
            "Successfully built scikit-surprise\n",
            "Installing collected packages: scikit-surprise\n",
            "Successfully installed scikit-surprise-1.1.1\n"
          ]
        }
      ]
    },
    {
      "cell_type": "code",
      "source": [
        "#Dropping the Timestamp column\n",
        "\n",
        "cell_csv_data.drop(['timestamp'], axis=1,inplace=True)"
      ],
      "metadata": {
        "id": "Kcf5g7GgdUTF"
      },
      "execution_count": null,
      "outputs": []
    },
    {
      "cell_type": "code",
      "source": [
        "#Reading the dataset\n",
        "#print(cell_csv_data)\n",
        "# reader = Reader(line_format=\"overall reviewerID asin\", sep=' ', rating_scale=(1, 5),skip_lines=1)\n",
        "reader = Reader(rating_scale=(1, 5),skip_lines=1)\n",
        "#data = Dataset.load_from_df(cell_phone[['overall', 'reviewerID', 'asin']], reader)\n",
        "data = Dataset.load_from_df(cell_csv_data, reader)\n",
        "\n",
        "\n",
        "#Splitting the dataset\n",
        "trainset, testset = train_test_split(data, test_size=0.2,random_state=10)\n",
        "\n",
        "# Use user_based true/false to switch between user-based or item-based collaborative filtering\n",
        "algo = KNNWithMeans(k=40, sim_options={'name': 'pearson_baseline', 'user_based': False})\n",
        "algo.fit(trainset)\n",
        "\n",
        "# run the trained model against the testset\n",
        "test_pred = algo.test(testset)\n",
        "\n",
        "print(\"Item-based Model : Test Set\")\n",
        "accuracy.rmse(test_pred, verbose=True)\n",
        "accuracy.mae(test_pred, verbose=True)"
      ],
      "metadata": {
        "colab": {
          "base_uri": "https://localhost:8080/"
        },
        "id": "ACEvr7BDbBlN",
        "outputId": "d01b417f-70ba-4146-ac6d-595bd2c62ed7"
      },
      "execution_count": null,
      "outputs": [
        {
          "output_type": "stream",
          "name": "stdout",
          "text": [
            "Estimating biases using als...\n",
            "Computing the pearson_baseline similarity matrix...\n",
            "Done computing similarity matrix.\n",
            "Item-based Model : Test Set\n",
            "RMSE: 1.5330\n",
            "MAE:  1.3545\n"
          ]
        },
        {
          "output_type": "execute_result",
          "data": {
            "text/plain": [
              "1.3544558517256402"
            ]
          },
          "metadata": {},
          "execution_count": 16
        }
      ]
    },
    {
      "cell_type": "code",
      "source": [
        "# Use user_based true/false to switch between user-based or item-based collaborative filtering\n",
        "user_basedCF = KNNWithMeans(k=40, sim_options={'name': 'pearson_baseline', 'user_based': True})\n",
        "user_basedCF.fit(trainset)\n",
        "\n",
        "# run the trained model against the testset\n",
        "user_basedCF_test_pred = user_basedCF.test(testset)\n",
        "\n",
        "print(\"User-based Model : Test Set\")\n",
        "accuracy.rmse(user_basedCF_test_pred, verbose=True)\n",
        "accuracy.mae(user_basedCF_test_pred, verbose=True)"
      ],
      "metadata": {
        "colab": {
          "base_uri": "https://localhost:8080/"
        },
        "id": "nN4ZitbwCaKl",
        "outputId": "1a4b9094-9747-40d5-d344-c8f4fd7bfd3e"
      },
      "execution_count": null,
      "outputs": [
        {
          "output_type": "stream",
          "name": "stdout",
          "text": [
            "Estimating biases using als...\n",
            "Computing the pearson_baseline similarity matrix...\n",
            "Done computing similarity matrix.\n",
            "User-based Model : Test Set\n",
            "RMSE: 1.5343\n",
            "MAE:  1.3581\n"
          ]
        },
        {
          "output_type": "execute_result",
          "data": {
            "text/plain": [
              "1.358054135621013"
            ]
          },
          "metadata": {},
          "execution_count": 19
        }
      ]
    },
    {
      "cell_type": "code",
      "source": [
        "from surprise import prediction_algorithms\n",
        "from surprise import SVD\n",
        "from surprise import NMF\n",
        "\n",
        "\n",
        "# min_movie_ratings = 2 #a movie has was rated at least \n",
        "# min_user_ratings =  5 #a user rated movies at least\n",
        "\n",
        "# ratings_flrd_df = ratings_df.groupby(\"movieId\").filter(lambda x: x['movieId'].count() >= min_movie_ratings)\n",
        "# ratings_flrd_df = ratings_flrd_df.groupby(\"userId\").filter(lambda x: x['userId'].count() >= min_user_ratings)\n",
        "\n",
        "# print(\"{0} movies deleted; all movies are now rated at least: {1} times. Old dimensions: {2}; New dimensions: {3}\"\\\n",
        "# .format(len(ratings_df.movieId.value_counts()) - len(ratings_flrd_df.movieId.value_counts())\\\n",
        "#         ,min_movie_ratings,ratings_df.shape, ratings_flrd_df.shape ))\n",
        "\n",
        "\n",
        "algo_SVD = SVD(n_factors = 11)\n",
        "algo_SVD.fit(trainset)\n",
        "\n",
        "\n",
        "# Predict ratings for all pairs (i,j) that are NOT in the training set.\n",
        "SVD_testset = trainset.build_anti_testset()\n",
        "\n",
        "predictions = algo_SVD.test(SVD_testset)\n",
        "\n",
        "# subset of the list  predictions\n",
        "predictions[:5]"
      ],
      "metadata": {
        "colab": {
          "base_uri": "https://localhost:8080/"
        },
        "id": "TidoyUx7LlbL",
        "outputId": "04c0878c-2c48-4bda-fecd-d59233621b6f"
      },
      "execution_count": null,
      "outputs": [
        {
          "output_type": "execute_result",
          "data": {
            "text/plain": [
              "[Prediction(uid='9638762632', iid='A3GI4SKQXZOJI1', r_ui=3.706062461726883, est=3.06801183481092, details={'was_impossible': False}),\n",
              " Prediction(uid='9638762632', iid='A3Q20EJOGJZGSI', r_ui=3.706062461726883, est=2.9544340237882034, details={'was_impossible': False}),\n",
              " Prediction(uid='9638762632', iid='AQVBB9BOQRYVG', r_ui=3.706062461726883, est=3.0647531334477955, details={'was_impossible': False}),\n",
              " Prediction(uid='9638762632', iid='A3GHDQATD50SEG', r_ui=3.706062461726883, est=3.1558016936027604, details={'was_impossible': False}),\n",
              " Prediction(uid='9638762632', iid='AO9VT2C8L7VHN', r_ui=3.706062461726883, est=3.046051481889364, details={'was_impossible': False})]"
            ]
          },
          "metadata": {},
          "execution_count": 13
        }
      ]
    },
    {
      "cell_type": "code",
      "source": [
        "from collections import defaultdict\n",
        "def get_top_n(predictions, userId, n = 10):# movies_df, ratings_df,\n",
        "    '''Return the top N (default) movieId for a user,.i.e. userID and history for comparisom\n",
        "    Args:\n",
        "    Returns: \n",
        "  \n",
        "    '''\n",
        "    #Peart I.: Surprise docomuntation\n",
        "    \n",
        "    #1. First map the predictions to each user.\n",
        "    top_n = defaultdict(list)\n",
        "    for uid, iid, true_r, est, _ in predictions:\n",
        "        top_n[uid].append((iid, est))\n",
        "\n",
        "    #2. Then sort the predictions for each user and retrieve the k highest ones.\n",
        "    for uid, user_ratings in top_n.items():\n",
        "        user_ratings.sort(key = lambda x: x[1], reverse = True)\n",
        "        top_n[uid] = user_ratings[: n ]\n",
        "\n",
        "    return top_n\n",
        "\n",
        "print(get_top_n(predictions, 9638762632))"
      ],
      "metadata": {
        "colab": {
          "base_uri": "https://localhost:8080/"
        },
        "id": "j0qlefMBEzj5",
        "outputId": "4cca879b-2dcb-49b1-834d-764b52acc9a8"
      },
      "execution_count": null,
      "outputs": [
        {
          "output_type": "stream",
          "name": "stdout",
          "text": [
            "defaultdict(<class 'list'>, {'9638762632': [('A19EOU9LDRSBM9', 3.3220095739823368), ('A38GYFN39HWR0X', 3.259392646645622), ('A18WPFPUYGQS8Y', 3.2462216262880657), ('A2K3SHXTJGR1OP', 3.2449549534090663), ('ARIZCKH460K7R', 3.239692268154324), ('A3EMXJR6UMXITZ', 3.2370250283204056), ('A25BF725P4G1FP', 3.234328024485074), ('A1AQIIG4KD852E', 3.2316764114738317), ('AAM7Z8QYP5JLI', 3.2307414175126072), ('A1VEC12EGN1QDJ', 3.2291440660909263)], '8288853439': [('A1JQ33DNF2Z7UI', 4.478955289348303), ('A1SJHP6301FK1L', 4.478507421219501), ('A3UIEEYEL4MCTB', 4.468699355144998), ('A10860VQHSWUQ7', 4.4592323669800535), ('ACJ8QMHRTF4AZ', 4.45730532870917), ('A3O2DPHARSQGVT', 4.454403862521759), ('A2QRNQBV60LXMN', 4.451614909248241), ('A1RN10T40IZ1GG', 4.4467978158191865), ('A3DCXI6GGZKTCW', 4.440811477607765), ('A2PE1EBFSEYFNZ', 4.436531649808241)], '9638762918': [('A2FSNVND1000RV', 3.70714357754408), ('A1RN10T40IZ1GG', 3.7043542653311903), ('A2PE1EBFSEYFNZ', 3.676212937165679), ('A334IVDF89B6C0', 3.6757455753292483), ('A12EHQA812L3A3', 3.6751790081346467), ('A1C71EMHZRUWNT', 3.6708454710410936), ('A3DCXI6GGZKTCW', 3.6646799586875796), ('A3SFQ1IQB9B2DN', 3.6615139141504747), ('A18WPFPUYGQS8Y', 3.6546994458308637), ('A3RDAHEREZ8G4Y', 3.648436970005729)], '8199900164': [('A2UXDIWEJOJQ65', 4.285674502974873), ('A19AE0DCVTDG06', 4.285210430512021), ('A37EG998DCIA8V', 4.274094144103024), ('A38G11CIQB31FB', 4.273973809131038), ('A1C71EMHZRUWNT', 4.273380297662706), ('AEZ174FKV7M79', 4.266600136672023), ('A3SFQ1IQB9B2DN', 4.266394716563466), ('ANA8V5ULQ94YO', 4.265638861824532), ('A19EOU9LDRSBM9', 4.262878064954064), ('A1QA5VXKFPQ11H', 4.2605752905167)], '399889988X': [('A2PQXYR55SYQ9V', 3.654923609082555), ('A3SWYAUDQ341JQ', 3.65476178067364), ('ANA8V5ULQ94YO', 3.642994455058579), ('A108ZQZZ4D8BC4', 3.626588273725537), ('AG176YH633HXF', 3.626406789005549), ('A2LC2M53JRXCJM', 3.6187906732518917), ('A3SFQ1IQB9B2DN', 3.618146504924259), ('APZOXDBMQ56XQ', 3.611594642441242), ('A3QDE7F6DWV42Z', 3.6076523133073017), ('A2W6IEQ9TBAKDW', 3.601363000940506)], '8288862993': [('A2VUJD0EYO2PJO', 4.159634064382391), ('A1VXC1L7GLZ2JI', 3.9556988271924283), ('A3UIEEYEL4MCTB', 3.895471866666351), ('A13AIMAD2V4DGX', 3.880715320196126), ('A627Z4WOTCMTL', 3.866412120116895), ('A1TE996LYGSJYW', 3.851797871967955), ('ATX4Y3S8LEVH8', 3.840142373807986), ('A1DTBEA8RF40WR', 3.8232031755223623), ('A1C76H75G954WJ', 3.821137593588188), ('A1XBPVR8FE7TE1', 3.821005719136651)], '7887421268': [('A1WK0DH0W21F3G', 3.3068680169750655), ('A2XN5QCJ89GYIM', 3.263682751281956), ('A20O9EQP31H8HN', 3.248103394103373), ('A3P1ZYBOK4DKU9', 3.243150954448682), ('A1BM6NLEP612WN', 3.240464275078735), ('A2FSNVND1000RV', 3.2382922821680227), ('A1D1IC7210ZMIX', 3.232310258483945), ('AEZ174FKV7M79', 3.228096830946881), ('A1KK7DM3T1LRHT', 3.2273289949484667), ('A29LG2ZZSGOEPI', 3.225571737568279)], '7508492919': [('ASMZSZ4084GMB', 4.32277909627618), ('AZ2ZBPOV77TSH', 4.272407917559069), ('A2LBWVL4ZW0YMU', 4.268438911956174), ('ARIZCKH460K7R', 4.244087369877212), ('A2E3FIPDW1OASK', 4.240395241179243), ('A1QZWTLR596O8M', 4.226629049145077), ('AC7E654M0G9VS', 4.209469652944876), ('A1LG9RKAK8NMYB', 4.207749358853602), ('A2ETP3A4IMJZJF', 4.205546516807247), ('A3G849MTBJ1W9T', 4.20059638832375)], '9578085451': [('AWJLJQD0KBID8', 4.084915178990293), ('A3DCXI6GGZKTCW', 4.078952256144975), ('AK3WJYP9NGS1H', 4.063352977597586), ('A1UXE9GJT23NM2', 4.062648480761767), ('ASSCO8GHYLLEB', 4.062166487680138), ('A1RWQDNVJ9Z9YG', 4.056196644611831), ('A1JQ33DNF2Z7UI', 4.054772995618496), ('A502QHHI91ENR', 4.050857354690359), ('A3IT1BEHUWP3X4', 4.04569104142347), ('A4LALQCZELU79', 4.037358665691542)], '8288878881': [('A4F8BW6DZ0JCR', 4.353422602513481), ('A15BYJ1QOLX525', 4.3029565419997775), ('A1LG9RKAK8NMYB', 4.274082136406478), ('A3PHJYND753HBC', 4.272427882082345), ('A1FTDA91AU1Y88', 4.243205656200741), ('A3IVP5IWXS2LHB', 4.2428242945484165), ('A2E3FIPDW1OASK', 4.239020538134217), ('A272DUT8M88ZS8', 4.2245579322423055), ('A1MT48NEFF2WS8', 4.224495942882548), ('A2GBMX7F5MR4TA', 4.216633491508249)], '098949232X': [('A3GI4SKQXZOJI1', 5), ('AQVBB9BOQRYVG', 5), ('A3GHDQATD50SEG', 5), ('AKV6VXEEXIG6E', 5), ('A27P9Y0TX0ZPGD', 5), ('ACU3LCRX4A8RV', 5), ('A1D1IC7210ZMIX', 5), ('A1Z1WSAJJSFJ4A', 5), ('ANI234P9J3P5P', 5), ('A3SWGK85JKF01U', 5)], '1610121147': [('A19EOU9LDRSBM9', 2.757958521838955), ('A10860VQHSWUQ7', 2.7465716427136573), ('AQ7UOJZSJTEEL', 2.734304548076239), ('A2159VXXB71OY5', 2.728409347007859), ('A25AL7BSAR0XFO', 2.7266850496798725), ('ACJ8QMHRTF4AZ', 2.7246575819674215), ('A1UXE9GJT23NM2', 2.721152084858378), ('A3QT92JLVGTZXH', 2.717377525311286), ('A3IT1BEHUWP3X4', 2.7161968569630908), ('A502QHHI91ENR', 2.715021945665154)], '962886436X': [('AWJYJ5OYKNGJ0', 3.4382166384291346), ('A2JIVJAJ30G8TA', 3.42244222442006), ('A2XRRFR1HGA08X', 3.4194352721758334), ('A2PTVSL4ALYXYB', 3.3988948905490397), ('A1C71EMHZRUWNT', 3.3936319857201194), ('A3SXYAVVU7W383', 3.381246895075447), ('A16GW79WGED1YT', 3.3721879191591277), ('AC6EDQL0NU6PB', 3.3666628045942897), ('AYNNLA6JFGF2L', 3.360824306220074), ('A128NU439QI7UF', 3.360641150543147)], '8282002763': [('A19EOU9LDRSBM9', 4.294885035307594), ('A1FTDA91AU1Y88', 4.286155073060397), ('A2JIVJAJ30G8TA', 4.283683750604668), ('AY9MQ4QNQDU5B', 4.279294833511592), ('AC6EDQL0NU6PB', 4.276833692732004), ('A128NU439QI7UF', 4.27327522217441), ('A2PE1EBFSEYFNZ', 4.273261296056049), ('AW6R46KIU70O5', 4.273103950171727), ('AJSEEYE011BLB', 4.273094814374583), ('A2SZ01A5RRN2R8', 4.267293291914988)], '8282000477': [('A19AE0DCVTDG06', 4.170024554454103), ('A38G11CIQB31FB', 4.169618450673517), ('AC6EDQL0NU6PB', 4.167234032613719), ('A30A2PK2OULM28', 4.164086178022825), ('A2UXDIWEJOJQ65', 4.163409849699112), ('A3DQ2SZ8WH54A9', 4.158568583839851), ('A3E9RXX2Z6DNA1', 4.155123173595241), ('A373FDWSKFUB0L', 4.153969033977375), ('A2PTVSL4ALYXYB', 4.152840573367273), ('A2NZYWHD8TN2IN', 4.149771699746282)], '7532385086': [('A19EOU9LDRSBM9', 3.8205715719700732), ('A1RWQDNVJ9Z9YG', 3.805096348504193), ('A2PTVSL4ALYXYB', 3.7935515928834613), ('AJDJ6SQUDORP6', 3.780622447378015), ('A2DI4DPL98A4LH', 3.7729316191368434), ('A2UXDIWEJOJQ65', 3.769849549548222), ('AUPKTL389PSI4', 3.769101908896974), ('A1C71EMHZRUWNT', 3.7688195751758786), ('A3DQ2SZ8WH54A9', 3.7679100715727687), ('A1J7Y45SOA2BTW', 3.7654983161832924)], '8199303034': [('A19EOU9LDRSBM9', 4.05293679267973), ('A1FTDA91AU1Y88', 4.005998037827494), ('A3UFJDFSLI21AT', 4.003965516241327), ('AFT1RLHKKWREA', 4.002552849136142), ('AW6R46KIU70O5', 4.001430262931877), ('AUKO84XXJT39S', 4.0012566262217915), ('A2LC2M53JRXCJM', 3.9963435399503053), ('A3O2DPHARSQGVT', 3.9956275403444117), ('A18WPFPUYGQS8Y', 3.9942761174482033), ('A1Z1WSAJJSFJ4A', 3.9938354451626434)], '7391002801': [('AJSEEYE011BLB', 4.5628898777238955), ('A7HXLWJ3VMP9P', 4.557707286270366), ('A2VUJD0EYO2PJO', 4.546019037700391), ('A3EMXJR6UMXITZ', 4.544501795689808), ('AV8AJ99E8XLU6', 4.537082115076453), ('AK3WJYP9NGS1H', 4.536823940537248), ('A1TE996LYGSJYW', 4.533757955254361), ('A2E3FIPDW1OASK', 4.533106748851431), ('A1FTDA91AU1Y88', 4.532926573211167), ('A1LG9RKAK8NMYB', 4.530215483739816)], '961301375X': [('A3PHJYND753HBC', 3.852012433347443), ('A19EOU9LDRSBM9', 3.849924790456496), ('A2KRFYZGA5T4VC', 3.845879051022379), ('ANI234P9J3P5P', 3.845501947165041), ('A257GPDG9Z2S1G', 3.84431420632632), ('A15BYJ1QOLX525', 3.8340865144456586), ('AQ7UOJZSJTEEL', 3.833777136474045), ('A3QT92JLVGTZXH', 3.831983334189851), ('A1RWQDNVJ9Z9YG', 3.830901722384322), ('A2UXDIWEJOJQ65', 3.8300406062872816)], '828886922X': [('A19EOU9LDRSBM9', 4.0094268451133415), ('A2HRR1Q3FSV9T2', 3.995883917760031), ('A18WPFPUYGQS8Y', 3.9883227632555456), ('AC6EDQL0NU6PB', 3.9873715286018854), ('A1J7Y45SOA2BTW', 3.9798260399752143), ('AWJAHTKWGQW9X', 3.9740565297783794), ('A1JUZ1FVF06U2C', 3.97332692664075), ('AJDJ6SQUDORP6', 3.9685539266764747), ('A2JIVJAJ30G8TA', 3.965396394678566), ('A1C71EMHZRUWNT', 3.9643852839199023)], '8199407050': [('A2PTVSL4ALYXYB', 3.9062813625971895), ('A19EOU9LDRSBM9', 3.90516941619718), ('A1QA5VXKFPQ11H', 3.9010795644460043), ('A3DQ2SZ8WH54A9', 3.895073536482864), ('A2ETP3A4IMJZJF', 3.8913547784882327), ('AJDJ6SQUDORP6', 3.8913310261205227), ('A2PE1EBFSEYFNZ', 3.8902914309602687), ('ANA8V5ULQ94YO', 3.8902879969189916), ('A3SFQ1IQB9B2DN', 3.890017734822418), ('A1JUZ1FVF06U2C', 3.888285888517593)], '5891061139': [('A19AE0DCVTDG06', 3.992933067251037), ('AK3WJYP9NGS1H', 3.9859654655052728), ('AFUDRLC16R3YV', 3.9838275263605034), ('A30A2PK2OULM28', 3.983680633574255), ('A2ETP3A4IMJZJF', 3.9787925615403354), ('A2PE1EBFSEYFNZ', 3.9780343999970067), ('A1LG9RKAK8NMYB', 3.97378634571081), ('A12FX3URJRP5HE', 3.9725169254345336), ('A37EG998DCIA8V', 3.9693493327401956), ('A1J7Y45SOA2BTW', 3.963601860937273)], '8199909331': [('A342WHV473NQO6', 4.589361062575918), ('AJSEEYE011BLB', 4.57984438184192), ('A502QHHI91ENR', 4.566100027104901), ('A1JQ33DNF2Z7UI', 4.563991593103673), ('A4LALQCZELU79', 4.556661079884892), ('AY9MQ4QNQDU5B', 4.555120203883535), ('A1UXE9GJT23NM2', 4.5462469182836935), ('AC6EDQL0NU6PB', 4.544747831367939), ('A2SZ01A5RRN2R8', 4.543493409728922), ('A2PE1EBFSEYFNZ', 4.542757765282892)], '1060697254': [('AQ7UOJZSJTEEL', 3.6980225391896213), ('A19EOU9LDRSBM9', 3.6848816276799155), ('A3SFQ1IQB9B2DN', 3.6808541717319754), ('A25QYG2EDQUGQL', 3.6788545926937135), ('A1C71EMHZRUWNT', 3.675601805470424), ('AHHL78V6EX727', 3.6721260979302075), ('ANA8V5ULQ94YO', 3.6712715520673362), ('AZ7KIJC9CEZY6', 3.6706807266454557), ('A1KI2ETQ5G41ZS', 3.6698063699109964), ('AFUDRLC16R3YV', 3.669461878293773)], '5891090295': [('A19EOU9LDRSBM9', 3.7240732584211718), ('A3SWYAUDQ341JQ', 3.718241221640671), ('ANA8V5ULQ94YO', 3.717435255003439), ('A3IPHON53YDND4', 3.714445426969382), ('ARIZCKH460K7R', 3.707110981219742), ('AV8AJ99E8XLU6', 3.706918264111644), ('A1E2JG1J9G7NBP', 3.7064968993097285), ('A25BF725P4G1FP', 3.7048001409457547), ('A1SJHP6301FK1L', 3.7040098813530595), ('AFT1RLHKKWREA', 3.697511795165475)], '3993854748': [('A19EOU9LDRSBM9', 3.752084729334012), ('A2PQXYR55SYQ9V', 3.7469260886814), ('A1RN10T40IZ1GG', 3.746852912550296), ('A3DCXI6GGZKTCW', 3.7460077874687125), ('APZOXDBMQ56XQ', 3.7339133675606515), ('A3QDE7F6DWV42Z', 3.7259533664087843), ('ANA8V5ULQ94YO', 3.722308116325875), ('A10860VQHSWUQ7', 3.720149599000937), ('A9NXTC0HTPSDO', 3.718914197762003), ('A1WFT5QJHXG5UL', 3.7178355032633195)], '8199201460': [('A3UI28BA8ZXGZU', 4.400546954678155), ('A1BM6NLEP612WN', 4.368012862960717), ('A3DQ2SZ8WH54A9', 4.363809980071884), ('A1Z1WSAJJSFJ4A', 4.3538556790456795), ('A3402T3O6TDMGT', 4.35252829330583), ('A1UXE9GJT23NM2', 4.349871152264076), ('A3RJE20YZRG3RO', 4.3489099580528), ('AK3WJYP9NGS1H', 4.345652620491967), ('AU56TV259I84T', 4.341521844548251), ('A1JUZ1FVF06U2C', 4.338913646229127)], '1060297744': [('A19EOU9LDRSBM9', 3.446122577642995), ('A2E3FIPDW1OASK', 3.437518847983972), ('AQ7UOJZSJTEEL', 3.436258185021061), ('A3SFQ1IQB9B2DN', 3.431639779803404), ('A1C71EMHZRUWNT', 3.428459933893225), ('ANA8V5ULQ94YO', 3.427432335749955), ('A2ETP3A4IMJZJF', 3.426279581855883), ('AZ7KIJC9CEZY6', 3.422960969988526), ('A25QYG2EDQUGQL', 3.4202505258037963), ('A1PGLLOERIF5DJ', 3.4185592992302047)], '8288839150': [('A19EOU9LDRSBM9', 4.111080879386207), ('A38GYFN39HWR0X', 4.088539209997812), ('AAM7Z8QYP5JLI', 4.087980170723401), ('AWJYJ5OYKNGJ0', 4.085542459131905), ('A18WPFPUYGQS8Y', 4.077068757437319), ('A3DCXI6GGZKTCW', 4.0712619463843875), ('ADYK99MZXOOUH', 4.065077565594245), ('AUKO84XXJT39S', 4.0649961122834775), ('AJDJ6SQUDORP6', 4.061967701172388), ('A2HRR1Q3FSV9T2', 4.056883079248288)], '828885382X': [('A7HXLWJ3VMP9P', 4.185851478180087), ('AQ7UOJZSJTEEL', 4.168775469448197), ('A19EOU9LDRSBM9', 4.163685444857904), ('A3BP9L5F7SUT87', 4.163091277491982), ('A1UXE9GJT23NM2', 4.162683556842896), ('A12FX3URJRP5HE', 4.161573901214616), ('AJSEEYE011BLB', 4.161188337032628), ('A3EMXJR6UMXITZ', 4.155445770743279), ('A1XBPVR8FE7TE1', 4.155353862233503), ('A502QHHI91ENR', 4.153636788057006)], '8199504331': [('A1J7Y45SOA2BTW', 4.287351945744987), ('A2PQXYR55SYQ9V', 4.281976912657158), ('A2JIVJAJ30G8TA', 4.2601814611272175), ('A16GW79WGED1YT', 4.259842891889113), ('A19EOU9LDRSBM9', 4.257624283902632), ('A3GWBA2C79FNF0', 4.255639704269929), ('A1K6GVA1VCSS7R', 4.253699369033214), ('A3SXYAVVU7W383', 4.249305725937402), ('A3QDE7F6DWV42Z', 4.244252344696495), ('A1BM6NLEP612WN', 4.243613276741339)], '819960459X': [('A19EOU9LDRSBM9', 4.002088858173942), ('A3DCXI6GGZKTCW', 3.9437104239092178), ('AWJYJ5OYKNGJ0', 3.915856956965477), ('A2GBBW14EVQXTX', 3.912541720101607), ('A1FTDA91AU1Y88', 3.9122143424050906), ('AJDJ6SQUDORP6', 3.9113139775518264), ('A38GYFN39HWR0X', 3.9061978299816102), ('A3SWYAUDQ341JQ', 3.9018046414975625), ('A2X4478R0TCQSF', 3.9017300036003326), ('A1QA5VXKFPQ11H', 3.89978829235074)]})\n"
          ]
        }
      ]
    },
    {
      "cell_type": "code",
      "source": [
        "from google.colab import files\n",
        "uploaded = files.upload()\n",
        "df4 = pd.read_json(\"Cell_Phones_and_Accessories_5.json\", lines=True)"
      ],
      "metadata": {
        "colab": {
          "base_uri": "https://localhost:8080/",
          "height": 375
        },
        "id": "7Lp3NWnM0E9K",
        "outputId": "857870d5-b1ec-4d00-8b23-a700d212ca21"
      },
      "execution_count": null,
      "outputs": [
        {
          "output_type": "display_data",
          "data": {
            "text/plain": [
              "<IPython.core.display.HTML object>"
            ],
            "text/html": [
              "\n",
              "     <input type=\"file\" id=\"files-192a95cd-d524-4e59-9f86-7bcb03e41d40\" name=\"files[]\" multiple disabled\n",
              "        style=\"border:none\" />\n",
              "     <output id=\"result-192a95cd-d524-4e59-9f86-7bcb03e41d40\">\n",
              "      Upload widget is only available when the cell has been executed in the\n",
              "      current browser session. Please rerun this cell to enable.\n",
              "      </output>\n",
              "      <script src=\"/nbextensions/google.colab/files.js\"></script> "
            ]
          },
          "metadata": {}
        },
        {
          "output_type": "error",
          "ename": "MessageError",
          "evalue": "ignored",
          "traceback": [
            "\u001b[0;31m---------------------------------------------------------------------------\u001b[0m",
            "\u001b[0;31mMessageError\u001b[0m                              Traceback (most recent call last)",
            "\u001b[0;32m<ipython-input-12-bc04f767c3d8>\u001b[0m in \u001b[0;36m<module>\u001b[0;34m()\u001b[0m\n\u001b[1;32m      1\u001b[0m \u001b[0;32mfrom\u001b[0m \u001b[0mgoogle\u001b[0m\u001b[0;34m.\u001b[0m\u001b[0mcolab\u001b[0m \u001b[0;32mimport\u001b[0m \u001b[0mfiles\u001b[0m\u001b[0;34m\u001b[0m\u001b[0;34m\u001b[0m\u001b[0m\n\u001b[0;32m----> 2\u001b[0;31m \u001b[0muploaded\u001b[0m \u001b[0;34m=\u001b[0m \u001b[0mfiles\u001b[0m\u001b[0;34m.\u001b[0m\u001b[0mupload\u001b[0m\u001b[0;34m(\u001b[0m\u001b[0;34m)\u001b[0m\u001b[0;34m\u001b[0m\u001b[0;34m\u001b[0m\u001b[0m\n\u001b[0m\u001b[1;32m      3\u001b[0m \u001b[0mdf4\u001b[0m \u001b[0;34m=\u001b[0m \u001b[0mpd\u001b[0m\u001b[0;34m.\u001b[0m\u001b[0mread_json\u001b[0m\u001b[0;34m(\u001b[0m\u001b[0;34m\"Cell_Phones_and_Accessories_5.json\"\u001b[0m\u001b[0;34m,\u001b[0m \u001b[0mlines\u001b[0m\u001b[0;34m=\u001b[0m\u001b[0;32mTrue\u001b[0m\u001b[0;34m)\u001b[0m\u001b[0;34m\u001b[0m\u001b[0;34m\u001b[0m\u001b[0m\n",
            "\u001b[0;32m/usr/local/lib/python3.7/dist-packages/google/colab/files.py\u001b[0m in \u001b[0;36mupload\u001b[0;34m()\u001b[0m\n\u001b[1;32m     44\u001b[0m   \"\"\"\n\u001b[1;32m     45\u001b[0m \u001b[0;34m\u001b[0m\u001b[0m\n\u001b[0;32m---> 46\u001b[0;31m   \u001b[0muploaded_files\u001b[0m \u001b[0;34m=\u001b[0m \u001b[0m_upload_files\u001b[0m\u001b[0;34m(\u001b[0m\u001b[0mmultiple\u001b[0m\u001b[0;34m=\u001b[0m\u001b[0;32mTrue\u001b[0m\u001b[0;34m)\u001b[0m\u001b[0;34m\u001b[0m\u001b[0;34m\u001b[0m\u001b[0m\n\u001b[0m\u001b[1;32m     47\u001b[0m   \u001b[0;31m# Mapping from original filename to filename as saved locally.\u001b[0m\u001b[0;34m\u001b[0m\u001b[0;34m\u001b[0m\u001b[0;34m\u001b[0m\u001b[0m\n\u001b[1;32m     48\u001b[0m   \u001b[0mlocal_filenames\u001b[0m \u001b[0;34m=\u001b[0m \u001b[0mdict\u001b[0m\u001b[0;34m(\u001b[0m\u001b[0;34m)\u001b[0m\u001b[0;34m\u001b[0m\u001b[0;34m\u001b[0m\u001b[0m\n",
            "\u001b[0;32m/usr/local/lib/python3.7/dist-packages/google/colab/files.py\u001b[0m in \u001b[0;36m_upload_files\u001b[0;34m(multiple)\u001b[0m\n\u001b[1;32m    121\u001b[0m   result = _output.eval_js(\n\u001b[1;32m    122\u001b[0m       'google.colab._files._uploadFiles(\"{input_id}\", \"{output_id}\")'.format(\n\u001b[0;32m--> 123\u001b[0;31m           input_id=input_id, output_id=output_id))\n\u001b[0m\u001b[1;32m    124\u001b[0m   \u001b[0mfiles\u001b[0m \u001b[0;34m=\u001b[0m \u001b[0m_collections\u001b[0m\u001b[0;34m.\u001b[0m\u001b[0mdefaultdict\u001b[0m\u001b[0;34m(\u001b[0m\u001b[0m_six\u001b[0m\u001b[0;34m.\u001b[0m\u001b[0mbinary_type\u001b[0m\u001b[0;34m)\u001b[0m\u001b[0;34m\u001b[0m\u001b[0;34m\u001b[0m\u001b[0m\n\u001b[1;32m    125\u001b[0m \u001b[0;34m\u001b[0m\u001b[0m\n",
            "\u001b[0;32m/usr/local/lib/python3.7/dist-packages/google/colab/output/_js.py\u001b[0m in \u001b[0;36meval_js\u001b[0;34m(script, ignore_result, timeout_sec)\u001b[0m\n\u001b[1;32m     38\u001b[0m   \u001b[0;32mif\u001b[0m \u001b[0mignore_result\u001b[0m\u001b[0;34m:\u001b[0m\u001b[0;34m\u001b[0m\u001b[0;34m\u001b[0m\u001b[0m\n\u001b[1;32m     39\u001b[0m     \u001b[0;32mreturn\u001b[0m\u001b[0;34m\u001b[0m\u001b[0;34m\u001b[0m\u001b[0m\n\u001b[0;32m---> 40\u001b[0;31m   \u001b[0;32mreturn\u001b[0m \u001b[0m_message\u001b[0m\u001b[0;34m.\u001b[0m\u001b[0mread_reply_from_input\u001b[0m\u001b[0;34m(\u001b[0m\u001b[0mrequest_id\u001b[0m\u001b[0;34m,\u001b[0m \u001b[0mtimeout_sec\u001b[0m\u001b[0;34m)\u001b[0m\u001b[0;34m\u001b[0m\u001b[0;34m\u001b[0m\u001b[0m\n\u001b[0m\u001b[1;32m     41\u001b[0m \u001b[0;34m\u001b[0m\u001b[0m\n\u001b[1;32m     42\u001b[0m \u001b[0;34m\u001b[0m\u001b[0m\n",
            "\u001b[0;32m/usr/local/lib/python3.7/dist-packages/google/colab/_message.py\u001b[0m in \u001b[0;36mread_reply_from_input\u001b[0;34m(message_id, timeout_sec)\u001b[0m\n\u001b[1;32m    104\u001b[0m         reply.get('colab_msg_id') == message_id):\n\u001b[1;32m    105\u001b[0m       \u001b[0;32mif\u001b[0m \u001b[0;34m'error'\u001b[0m \u001b[0;32min\u001b[0m \u001b[0mreply\u001b[0m\u001b[0;34m:\u001b[0m\u001b[0;34m\u001b[0m\u001b[0;34m\u001b[0m\u001b[0m\n\u001b[0;32m--> 106\u001b[0;31m         \u001b[0;32mraise\u001b[0m \u001b[0mMessageError\u001b[0m\u001b[0;34m(\u001b[0m\u001b[0mreply\u001b[0m\u001b[0;34m[\u001b[0m\u001b[0;34m'error'\u001b[0m\u001b[0;34m]\u001b[0m\u001b[0;34m)\u001b[0m\u001b[0;34m\u001b[0m\u001b[0;34m\u001b[0m\u001b[0m\n\u001b[0m\u001b[1;32m    107\u001b[0m       \u001b[0;32mreturn\u001b[0m \u001b[0mreply\u001b[0m\u001b[0;34m.\u001b[0m\u001b[0mget\u001b[0m\u001b[0;34m(\u001b[0m\u001b[0;34m'data'\u001b[0m\u001b[0;34m,\u001b[0m \u001b[0;32mNone\u001b[0m\u001b[0;34m)\u001b[0m\u001b[0;34m\u001b[0m\u001b[0;34m\u001b[0m\u001b[0m\n\u001b[1;32m    108\u001b[0m \u001b[0;34m\u001b[0m\u001b[0m\n",
            "\u001b[0;31mMessageError\u001b[0m: TypeError: Cannot read properties of undefined (reading '_uploadFiles')"
          ]
        }
      ]
    },
    {
      "cell_type": "code",
      "source": [
        ""
      ],
      "metadata": {
        "id": "r3dqz1QE0LJC"
      },
      "execution_count": null,
      "outputs": []
    }
  ]
}